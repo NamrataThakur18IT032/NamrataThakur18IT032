{
  "nbformat": 4,
  "nbformat_minor": 0,
  "metadata": {
    "colab": {
      "name": " assignment-2.ipynb",
      "provenance": []
    },
    "kernelspec": {
      "name": "python3",
      "display_name": "Python 3"
    }
  },
  "cells": [
    {
      "cell_type": "code",
      "metadata": {
        "id": "Jd3Z8CJfs6kH"
      },
      "source": [
        "#Movie dataset comma separated value\n",
        "df = \"https://raw.githubusercontent.com/Abhipsakumaripriyadarshinee/18cse155/main/tmdb-movies%20(1).csv\""
      ],
      "execution_count": null,
      "outputs": []
    },
    {
      "cell_type": "code",
      "metadata": {
        "id": "WBF76PjKtfPI"
      },
      "source": [
        "import pandas as pd"
      ],
      "execution_count": null,
      "outputs": []
    },
    {
      "cell_type": "code",
      "metadata": {
        "id": "8mhYL-6utgT8"
      },
      "source": [
        "data = pd.read_csv(df)"
      ],
      "execution_count": null,
      "outputs": []
    },
    {
      "cell_type": "code",
      "metadata": {
        "colab": {
          "base_uri": "https://localhost:8080/",
          "height": 1000
        },
        "id": "v55M9izMtlAm",
        "outputId": "b36096af-8793-47a4-80bf-102fea140462"
      },
      "source": [
        "\n",
        "data"
      ],
      "execution_count": null,
      "outputs": [
        {
          "output_type": "execute_result",
          "data": {
            "text/html": [
              "<div>\n",
              "<style scoped>\n",
              "    .dataframe tbody tr th:only-of-type {\n",
              "        vertical-align: middle;\n",
              "    }\n",
              "\n",
              "    .dataframe tbody tr th {\n",
              "        vertical-align: top;\n",
              "    }\n",
              "\n",
              "    .dataframe thead th {\n",
              "        text-align: right;\n",
              "    }\n",
              "</style>\n",
              "<table border=\"1\" class=\"dataframe\">\n",
              "  <thead>\n",
              "    <tr style=\"text-align: right;\">\n",
              "      <th></th>\n",
              "      <th>id</th>\n",
              "      <th>imdb_id</th>\n",
              "      <th>popularity</th>\n",
              "      <th>budget</th>\n",
              "      <th>revenue</th>\n",
              "      <th>original_title</th>\n",
              "      <th>cast</th>\n",
              "      <th>homepage</th>\n",
              "      <th>director</th>\n",
              "      <th>tagline</th>\n",
              "      <th>keywords</th>\n",
              "      <th>overview</th>\n",
              "      <th>runtime</th>\n",
              "      <th>genres</th>\n",
              "      <th>production_companies</th>\n",
              "      <th>release_date</th>\n",
              "      <th>vote_count</th>\n",
              "      <th>vote_average</th>\n",
              "      <th>release_year</th>\n",
              "      <th>budget_adj</th>\n",
              "      <th>revenue_adj</th>\n",
              "    </tr>\n",
              "  </thead>\n",
              "  <tbody>\n",
              "    <tr>\n",
              "      <th>0</th>\n",
              "      <td>135397</td>\n",
              "      <td>tt0369610</td>\n",
              "      <td>32.985763</td>\n",
              "      <td>150000000</td>\n",
              "      <td>1513528810</td>\n",
              "      <td>Jurassic World</td>\n",
              "      <td>Chris Pratt|Bryce Dallas Howard|Irrfan Khan|Vi...</td>\n",
              "      <td>http://www.jurassicworld.com/</td>\n",
              "      <td>Colin Trevorrow</td>\n",
              "      <td>The park is open.</td>\n",
              "      <td>monster|dna|tyrannosaurus rex|velociraptor|island</td>\n",
              "      <td>Twenty-two years after the events of Jurassic ...</td>\n",
              "      <td>124</td>\n",
              "      <td>Action|Adventure|Science Fiction|Thriller</td>\n",
              "      <td>Universal Studios|Amblin Entertainment|Legenda...</td>\n",
              "      <td>6/9/2015</td>\n",
              "      <td>5562</td>\n",
              "      <td>6.5</td>\n",
              "      <td>2015</td>\n",
              "      <td>1.379999e+08</td>\n",
              "      <td>1.392446e+09</td>\n",
              "    </tr>\n",
              "    <tr>\n",
              "      <th>1</th>\n",
              "      <td>76341</td>\n",
              "      <td>tt1392190</td>\n",
              "      <td>28.419936</td>\n",
              "      <td>150000000</td>\n",
              "      <td>378436354</td>\n",
              "      <td>Mad Max: Fury Road</td>\n",
              "      <td>Tom Hardy|Charlize Theron|Hugh Keays-Byrne|Nic...</td>\n",
              "      <td>http://www.madmaxmovie.com/</td>\n",
              "      <td>George Miller</td>\n",
              "      <td>What a Lovely Day.</td>\n",
              "      <td>future|chase|post-apocalyptic|dystopia|australia</td>\n",
              "      <td>An apocalyptic story set in the furthest reach...</td>\n",
              "      <td>120</td>\n",
              "      <td>Action|Adventure|Science Fiction|Thriller</td>\n",
              "      <td>Village Roadshow Pictures|Kennedy Miller Produ...</td>\n",
              "      <td>5/13/2015</td>\n",
              "      <td>6185</td>\n",
              "      <td>7.1</td>\n",
              "      <td>2015</td>\n",
              "      <td>1.379999e+08</td>\n",
              "      <td>3.481613e+08</td>\n",
              "    </tr>\n",
              "    <tr>\n",
              "      <th>2</th>\n",
              "      <td>262500</td>\n",
              "      <td>tt2908446</td>\n",
              "      <td>13.112507</td>\n",
              "      <td>110000000</td>\n",
              "      <td>295238201</td>\n",
              "      <td>Insurgent</td>\n",
              "      <td>Shailene Woodley|Theo James|Kate Winslet|Ansel...</td>\n",
              "      <td>http://www.thedivergentseries.movie/#insurgent</td>\n",
              "      <td>Robert Schwentke</td>\n",
              "      <td>One Choice Can Destroy You</td>\n",
              "      <td>based on novel|revolution|dystopia|sequel|dyst...</td>\n",
              "      <td>Beatrice Prior must confront her inner demons ...</td>\n",
              "      <td>119</td>\n",
              "      <td>Adventure|Science Fiction|Thriller</td>\n",
              "      <td>Summit Entertainment|Mandeville Films|Red Wago...</td>\n",
              "      <td>3/18/2015</td>\n",
              "      <td>2480</td>\n",
              "      <td>6.3</td>\n",
              "      <td>2015</td>\n",
              "      <td>1.012000e+08</td>\n",
              "      <td>2.716190e+08</td>\n",
              "    </tr>\n",
              "    <tr>\n",
              "      <th>3</th>\n",
              "      <td>140607</td>\n",
              "      <td>tt2488496</td>\n",
              "      <td>11.173104</td>\n",
              "      <td>200000000</td>\n",
              "      <td>2068178225</td>\n",
              "      <td>Star Wars: The Force Awakens</td>\n",
              "      <td>Harrison Ford|Mark Hamill|Carrie Fisher|Adam D...</td>\n",
              "      <td>http://www.starwars.com/films/star-wars-episod...</td>\n",
              "      <td>J.J. Abrams</td>\n",
              "      <td>Every generation has a story.</td>\n",
              "      <td>android|spaceship|jedi|space opera|3d</td>\n",
              "      <td>Thirty years after defeating the Galactic Empi...</td>\n",
              "      <td>136</td>\n",
              "      <td>Action|Adventure|Science Fiction|Fantasy</td>\n",
              "      <td>Lucasfilm|Truenorth Productions|Bad Robot</td>\n",
              "      <td>12/15/2015</td>\n",
              "      <td>5292</td>\n",
              "      <td>7.5</td>\n",
              "      <td>2015</td>\n",
              "      <td>1.839999e+08</td>\n",
              "      <td>1.902723e+09</td>\n",
              "    </tr>\n",
              "    <tr>\n",
              "      <th>4</th>\n",
              "      <td>168259</td>\n",
              "      <td>tt2820852</td>\n",
              "      <td>9.335014</td>\n",
              "      <td>190000000</td>\n",
              "      <td>1506249360</td>\n",
              "      <td>Furious 7</td>\n",
              "      <td>Vin Diesel|Paul Walker|Jason Statham|Michelle ...</td>\n",
              "      <td>http://www.furious7.com/</td>\n",
              "      <td>James Wan</td>\n",
              "      <td>Vengeance Hits Home</td>\n",
              "      <td>car race|speed|revenge|suspense|car</td>\n",
              "      <td>Deckard Shaw seeks revenge against Dominic Tor...</td>\n",
              "      <td>137</td>\n",
              "      <td>Action|Crime|Thriller</td>\n",
              "      <td>Universal Pictures|Original Film|Media Rights ...</td>\n",
              "      <td>4/1/2015</td>\n",
              "      <td>2947</td>\n",
              "      <td>7.3</td>\n",
              "      <td>2015</td>\n",
              "      <td>1.747999e+08</td>\n",
              "      <td>1.385749e+09</td>\n",
              "    </tr>\n",
              "    <tr>\n",
              "      <th>...</th>\n",
              "      <td>...</td>\n",
              "      <td>...</td>\n",
              "      <td>...</td>\n",
              "      <td>...</td>\n",
              "      <td>...</td>\n",
              "      <td>...</td>\n",
              "      <td>...</td>\n",
              "      <td>...</td>\n",
              "      <td>...</td>\n",
              "      <td>...</td>\n",
              "      <td>...</td>\n",
              "      <td>...</td>\n",
              "      <td>...</td>\n",
              "      <td>...</td>\n",
              "      <td>...</td>\n",
              "      <td>...</td>\n",
              "      <td>...</td>\n",
              "      <td>...</td>\n",
              "      <td>...</td>\n",
              "      <td>...</td>\n",
              "      <td>...</td>\n",
              "    </tr>\n",
              "    <tr>\n",
              "      <th>10861</th>\n",
              "      <td>21</td>\n",
              "      <td>tt0060371</td>\n",
              "      <td>0.080598</td>\n",
              "      <td>0</td>\n",
              "      <td>0</td>\n",
              "      <td>The Endless Summer</td>\n",
              "      <td>Michael Hynson|Robert August|Lord 'Tally Ho' B...</td>\n",
              "      <td>NaN</td>\n",
              "      <td>Bruce Brown</td>\n",
              "      <td>NaN</td>\n",
              "      <td>surfer|surfboard|surfing</td>\n",
              "      <td>The Endless Summer, by Bruce Brown, is one of ...</td>\n",
              "      <td>95</td>\n",
              "      <td>Documentary</td>\n",
              "      <td>Bruce Brown Films</td>\n",
              "      <td>6/15/1966</td>\n",
              "      <td>11</td>\n",
              "      <td>7.4</td>\n",
              "      <td>1966</td>\n",
              "      <td>0.000000e+00</td>\n",
              "      <td>0.000000e+00</td>\n",
              "    </tr>\n",
              "    <tr>\n",
              "      <th>10862</th>\n",
              "      <td>20379</td>\n",
              "      <td>tt0060472</td>\n",
              "      <td>0.065543</td>\n",
              "      <td>0</td>\n",
              "      <td>0</td>\n",
              "      <td>Grand Prix</td>\n",
              "      <td>James Garner|Eva Marie Saint|Yves Montand|Tosh...</td>\n",
              "      <td>NaN</td>\n",
              "      <td>John Frankenheimer</td>\n",
              "      <td>Cinerama sweeps YOU into a drama of speed and ...</td>\n",
              "      <td>car race|racing|formula 1</td>\n",
              "      <td>Grand Prix driver Pete Aron is fired by his te...</td>\n",
              "      <td>176</td>\n",
              "      <td>Action|Adventure|Drama</td>\n",
              "      <td>Cherokee Productions|Joel Productions|Douglas ...</td>\n",
              "      <td>12/21/1966</td>\n",
              "      <td>20</td>\n",
              "      <td>5.7</td>\n",
              "      <td>1966</td>\n",
              "      <td>0.000000e+00</td>\n",
              "      <td>0.000000e+00</td>\n",
              "    </tr>\n",
              "    <tr>\n",
              "      <th>10863</th>\n",
              "      <td>39768</td>\n",
              "      <td>tt0060161</td>\n",
              "      <td>0.065141</td>\n",
              "      <td>0</td>\n",
              "      <td>0</td>\n",
              "      <td>Beregis Avtomobilya</td>\n",
              "      <td>Innokentiy Smoktunovskiy|Oleg Efremov|Georgi Z...</td>\n",
              "      <td>NaN</td>\n",
              "      <td>Eldar Ryazanov</td>\n",
              "      <td>NaN</td>\n",
              "      <td>car|trolley|stealing car</td>\n",
              "      <td>An insurance agent who moonlights as a carthie...</td>\n",
              "      <td>94</td>\n",
              "      <td>Mystery|Comedy</td>\n",
              "      <td>Mosfilm</td>\n",
              "      <td>1/1/1966</td>\n",
              "      <td>11</td>\n",
              "      <td>6.5</td>\n",
              "      <td>1966</td>\n",
              "      <td>0.000000e+00</td>\n",
              "      <td>0.000000e+00</td>\n",
              "    </tr>\n",
              "    <tr>\n",
              "      <th>10864</th>\n",
              "      <td>21449</td>\n",
              "      <td>tt0061177</td>\n",
              "      <td>0.064317</td>\n",
              "      <td>0</td>\n",
              "      <td>0</td>\n",
              "      <td>What's Up, Tiger Lily?</td>\n",
              "      <td>Tatsuya Mihashi|Akiko Wakabayashi|Mie Hama|Joh...</td>\n",
              "      <td>NaN</td>\n",
              "      <td>Woody Allen</td>\n",
              "      <td>WOODY ALLEN STRIKES BACK!</td>\n",
              "      <td>spoof</td>\n",
              "      <td>In comic Woody Allen's film debut, he took the...</td>\n",
              "      <td>80</td>\n",
              "      <td>Action|Comedy</td>\n",
              "      <td>Benedict Pictures Corp.</td>\n",
              "      <td>11/2/1966</td>\n",
              "      <td>22</td>\n",
              "      <td>5.4</td>\n",
              "      <td>1966</td>\n",
              "      <td>0.000000e+00</td>\n",
              "      <td>0.000000e+00</td>\n",
              "    </tr>\n",
              "    <tr>\n",
              "      <th>10865</th>\n",
              "      <td>22293</td>\n",
              "      <td>tt0060666</td>\n",
              "      <td>0.035919</td>\n",
              "      <td>19000</td>\n",
              "      <td>0</td>\n",
              "      <td>Manos: The Hands of Fate</td>\n",
              "      <td>Harold P. Warren|Tom Neyman|John Reynolds|Dian...</td>\n",
              "      <td>NaN</td>\n",
              "      <td>Harold P. Warren</td>\n",
              "      <td>It's Shocking! It's Beyond Your Imagination!</td>\n",
              "      <td>fire|gun|drive|sacrifice|flashlight</td>\n",
              "      <td>A family gets lost on the road and stumbles up...</td>\n",
              "      <td>74</td>\n",
              "      <td>Horror</td>\n",
              "      <td>Norm-Iris</td>\n",
              "      <td>11/15/1966</td>\n",
              "      <td>15</td>\n",
              "      <td>1.5</td>\n",
              "      <td>1966</td>\n",
              "      <td>1.276423e+05</td>\n",
              "      <td>0.000000e+00</td>\n",
              "    </tr>\n",
              "  </tbody>\n",
              "</table>\n",
              "<p>10866 rows × 21 columns</p>\n",
              "</div>"
            ],
            "text/plain": [
              "           id    imdb_id  popularity  ...  release_year    budget_adj   revenue_adj\n",
              "0      135397  tt0369610   32.985763  ...          2015  1.379999e+08  1.392446e+09\n",
              "1       76341  tt1392190   28.419936  ...          2015  1.379999e+08  3.481613e+08\n",
              "2      262500  tt2908446   13.112507  ...          2015  1.012000e+08  2.716190e+08\n",
              "3      140607  tt2488496   11.173104  ...          2015  1.839999e+08  1.902723e+09\n",
              "4      168259  tt2820852    9.335014  ...          2015  1.747999e+08  1.385749e+09\n",
              "...       ...        ...         ...  ...           ...           ...           ...\n",
              "10861      21  tt0060371    0.080598  ...          1966  0.000000e+00  0.000000e+00\n",
              "10862   20379  tt0060472    0.065543  ...          1966  0.000000e+00  0.000000e+00\n",
              "10863   39768  tt0060161    0.065141  ...          1966  0.000000e+00  0.000000e+00\n",
              "10864   21449  tt0061177    0.064317  ...          1966  0.000000e+00  0.000000e+00\n",
              "10865   22293  tt0060666    0.035919  ...          1966  1.276423e+05  0.000000e+00\n",
              "\n",
              "[10866 rows x 21 columns]"
            ]
          },
          "metadata": {
            "tags": []
          },
          "execution_count": 4
        }
      ]
    },
    {
      "cell_type": "code",
      "metadata": {
        "id": "tUnFgnunvEbj",
        "colab": {
          "base_uri": "https://localhost:8080/"
        },
        "outputId": "4515b4e9-0102-4fde-dd1c-004ae486b6ba"
      },
      "source": [
        "#load data\n",
        "df=pd.read_csv(r\"https://raw.githubusercontent.com/Abhipsakumaripriyadarshinee/18cse155/main/tmdb-movies%20(1).csv\")\n",
        "df.shape #prints the shape of the data"
      ],
      "execution_count": null,
      "outputs": [
        {
          "output_type": "execute_result",
          "data": {
            "text/plain": [
              "(10866, 21)"
            ]
          },
          "metadata": {
            "tags": []
          },
          "execution_count": 5
        }
      ]
    },
    {
      "cell_type": "code",
      "metadata": {
        "colab": {
          "base_uri": "https://localhost:8080/"
        },
        "id": "7wEAshKOLvr7",
        "outputId": "8ce571f6-65a9-4910-f310-b9a306752a1c"
      },
      "source": [
        "df.columns #to print the number of columns"
      ],
      "execution_count": null,
      "outputs": [
        {
          "output_type": "execute_result",
          "data": {
            "text/plain": [
              "Index(['id', 'imdb_id', 'popularity', 'budget', 'revenue', 'original_title',\n",
              "       'cast', 'homepage', 'director', 'tagline', 'keywords', 'overview',\n",
              "       'runtime', 'genres', 'production_companies', 'release_date',\n",
              "       'vote_count', 'vote_average', 'release_year', 'budget_adj',\n",
              "       'revenue_adj'],\n",
              "      dtype='object')"
            ]
          },
          "metadata": {
            "tags": []
          },
          "execution_count": 6
        }
      ]
    },
    {
      "cell_type": "code",
      "metadata": {
        "colab": {
          "base_uri": "https://localhost:8080/"
        },
        "id": "1-qOepI8L3uB",
        "outputId": "47f02f9f-9922-407f-f4fb-db18c429e173"
      },
      "source": [
        "df.shape[1]"
      ],
      "execution_count": null,
      "outputs": [
        {
          "output_type": "execute_result",
          "data": {
            "text/plain": [
              "21"
            ]
          },
          "metadata": {
            "tags": []
          },
          "execution_count": 7
        }
      ]
    },
    {
      "cell_type": "code",
      "metadata": {
        "colab": {
          "base_uri": "https://localhost:8080/"
        },
        "id": "LQwbUgk1NQhp",
        "outputId": "e5b28072-7011-4b2c-a11b-8068bd6e162d"
      },
      "source": [
        "df.shape[0]"
      ],
      "execution_count": null,
      "outputs": [
        {
          "output_type": "execute_result",
          "data": {
            "text/plain": [
              "10866"
            ]
          },
          "metadata": {
            "tags": []
          },
          "execution_count": 8
        }
      ]
    },
    {
      "cell_type": "code",
      "metadata": {
        "colab": {
          "base_uri": "https://localhost:8080/"
        },
        "id": "epNx5CmSNYZA",
        "outputId": "b6e95a09-67d9-46f4-a908-b129d2741933"
      },
      "source": [
        "sum(df.duplicated())"
      ],
      "execution_count": null,
      "outputs": [
        {
          "output_type": "execute_result",
          "data": {
            "text/plain": [
              "1"
            ]
          },
          "metadata": {
            "tags": []
          },
          "execution_count": 9
        }
      ]
    },
    {
      "cell_type": "code",
      "metadata": {
        "id": "vMiRWs_dNhgT"
      },
      "source": [
        "df[df.duplicated()]\n",
        "df.drop_duplicates(inplace=True)"
      ],
      "execution_count": null,
      "outputs": []
    },
    {
      "cell_type": "code",
      "metadata": {
        "colab": {
          "base_uri": "https://localhost:8080/"
        },
        "id": "gSaPFppSNs2O",
        "outputId": "f6d0a8a5-3de1-4803-e39c-483a5ea11228"
      },
      "source": [
        "# informations about the dataset\n",
        "df.info()"
      ],
      "execution_count": null,
      "outputs": [
        {
          "output_type": "stream",
          "text": [
            "<class 'pandas.core.frame.DataFrame'>\n",
            "Int64Index: 10865 entries, 0 to 10865\n",
            "Data columns (total 21 columns):\n",
            " #   Column                Non-Null Count  Dtype  \n",
            "---  ------                --------------  -----  \n",
            " 0   id                    10865 non-null  int64  \n",
            " 1   imdb_id               10855 non-null  object \n",
            " 2   popularity            10865 non-null  float64\n",
            " 3   budget                10865 non-null  int64  \n",
            " 4   revenue               10865 non-null  int64  \n",
            " 5   original_title        10865 non-null  object \n",
            " 6   cast                  10789 non-null  object \n",
            " 7   homepage              2936 non-null   object \n",
            " 8   director              10821 non-null  object \n",
            " 9   tagline               8041 non-null   object \n",
            " 10  keywords              9372 non-null   object \n",
            " 11  overview              10861 non-null  object \n",
            " 12  runtime               10865 non-null  int64  \n",
            " 13  genres                10842 non-null  object \n",
            " 14  production_companies  9835 non-null   object \n",
            " 15  release_date          10865 non-null  object \n",
            " 16  vote_count            10865 non-null  int64  \n",
            " 17  vote_average          10865 non-null  float64\n",
            " 18  release_year          10865 non-null  int64  \n",
            " 19  budget_adj            10865 non-null  float64\n",
            " 20  revenue_adj           10865 non-null  float64\n",
            "dtypes: float64(4), int64(6), object(11)\n",
            "memory usage: 1.8+ MB\n"
          ],
          "name": "stdout"
        }
      ]
    },
    {
      "cell_type": "code",
      "metadata": {
        "colab": {
          "base_uri": "https://localhost:8080/"
        },
        "id": "VOdBgE9HN3MW",
        "outputId": "59ef5a5e-27ae-4647-ea71-2ff8b9754b85"
      },
      "source": [
        "# check for missing values\n",
        "df.isnull().sum()"
      ],
      "execution_count": null,
      "outputs": [
        {
          "output_type": "execute_result",
          "data": {
            "text/plain": [
              "id                         0\n",
              "imdb_id                   10\n",
              "popularity                 0\n",
              "budget                     0\n",
              "revenue                    0\n",
              "original_title             0\n",
              "cast                      76\n",
              "homepage                7929\n",
              "director                  44\n",
              "tagline                 2824\n",
              "keywords                1493\n",
              "overview                   4\n",
              "runtime                    0\n",
              "genres                    23\n",
              "production_companies    1030\n",
              "release_date               0\n",
              "vote_count                 0\n",
              "vote_average               0\n",
              "release_year               0\n",
              "budget_adj                 0\n",
              "revenue_adj                0\n",
              "dtype: int64"
            ]
          },
          "metadata": {
            "tags": []
          },
          "execution_count": 12
        }
      ]
    },
    {
      "cell_type": "code",
      "metadata": {
        "colab": {
          "base_uri": "https://localhost:8080/",
          "height": 551
        },
        "id": "lJXjivZCN_dc",
        "outputId": "75afafd3-8284-453c-9038-256cbaa4e548"
      },
      "source": [
        "# inpecting rows with missing values\n",
        "df[df.isnull().any(axis='columns')].head()"
      ],
      "execution_count": null,
      "outputs": [
        {
          "output_type": "execute_result",
          "data": {
            "text/html": [
              "<div>\n",
              "<style scoped>\n",
              "    .dataframe tbody tr th:only-of-type {\n",
              "        vertical-align: middle;\n",
              "    }\n",
              "\n",
              "    .dataframe tbody tr th {\n",
              "        vertical-align: top;\n",
              "    }\n",
              "\n",
              "    .dataframe thead th {\n",
              "        text-align: right;\n",
              "    }\n",
              "</style>\n",
              "<table border=\"1\" class=\"dataframe\">\n",
              "  <thead>\n",
              "    <tr style=\"text-align: right;\">\n",
              "      <th></th>\n",
              "      <th>id</th>\n",
              "      <th>imdb_id</th>\n",
              "      <th>popularity</th>\n",
              "      <th>budget</th>\n",
              "      <th>revenue</th>\n",
              "      <th>original_title</th>\n",
              "      <th>cast</th>\n",
              "      <th>homepage</th>\n",
              "      <th>director</th>\n",
              "      <th>tagline</th>\n",
              "      <th>keywords</th>\n",
              "      <th>overview</th>\n",
              "      <th>runtime</th>\n",
              "      <th>genres</th>\n",
              "      <th>production_companies</th>\n",
              "      <th>release_date</th>\n",
              "      <th>vote_count</th>\n",
              "      <th>vote_average</th>\n",
              "      <th>release_year</th>\n",
              "      <th>budget_adj</th>\n",
              "      <th>revenue_adj</th>\n",
              "    </tr>\n",
              "  </thead>\n",
              "  <tbody>\n",
              "    <tr>\n",
              "      <th>18</th>\n",
              "      <td>150689</td>\n",
              "      <td>tt1661199</td>\n",
              "      <td>5.556818</td>\n",
              "      <td>95000000</td>\n",
              "      <td>542351353</td>\n",
              "      <td>Cinderella</td>\n",
              "      <td>Lily James|Cate Blanchett|Richard Madden|Helen...</td>\n",
              "      <td>NaN</td>\n",
              "      <td>Kenneth Branagh</td>\n",
              "      <td>Midnight is just the beginning.</td>\n",
              "      <td>cinderella|magic|fairy tale|princess|shoe</td>\n",
              "      <td>When her father unexpectedly passes away, youn...</td>\n",
              "      <td>112</td>\n",
              "      <td>Romance|Fantasy|Family|Drama</td>\n",
              "      <td>Walt Disney Pictures|Genre Films|Beagle Pug Fi...</td>\n",
              "      <td>3/12/2015</td>\n",
              "      <td>1495</td>\n",
              "      <td>6.8</td>\n",
              "      <td>2015</td>\n",
              "      <td>87399961.54</td>\n",
              "      <td>4.989630e+08</td>\n",
              "    </tr>\n",
              "    <tr>\n",
              "      <th>21</th>\n",
              "      <td>307081</td>\n",
              "      <td>tt1798684</td>\n",
              "      <td>5.337064</td>\n",
              "      <td>30000000</td>\n",
              "      <td>91709827</td>\n",
              "      <td>Southpaw</td>\n",
              "      <td>Jake Gyllenhaal|Rachel McAdams|Forest Whitaker...</td>\n",
              "      <td>NaN</td>\n",
              "      <td>Antoine Fuqua</td>\n",
              "      <td>Believe in Hope.</td>\n",
              "      <td>sport</td>\n",
              "      <td>Billy \"The Great\" Hope, the reigning junior mi...</td>\n",
              "      <td>123</td>\n",
              "      <td>Action|Drama</td>\n",
              "      <td>Escape Artists|Riche-Ludwig Productions</td>\n",
              "      <td>6/15/2015</td>\n",
              "      <td>1386</td>\n",
              "      <td>7.3</td>\n",
              "      <td>2015</td>\n",
              "      <td>27599987.86</td>\n",
              "      <td>8.437300e+07</td>\n",
              "    </tr>\n",
              "    <tr>\n",
              "      <th>26</th>\n",
              "      <td>214756</td>\n",
              "      <td>tt2637276</td>\n",
              "      <td>4.564549</td>\n",
              "      <td>68000000</td>\n",
              "      <td>215863606</td>\n",
              "      <td>Ted 2</td>\n",
              "      <td>Mark Wahlberg|Seth MacFarlane|Amanda Seyfried|...</td>\n",
              "      <td>NaN</td>\n",
              "      <td>Seth MacFarlane</td>\n",
              "      <td>Ted is Coming, Again.</td>\n",
              "      <td>sperm bank|sequel|buddy|courthouse|teddy bear</td>\n",
              "      <td>Newlywed couple Ted and Tami-Lynn want to have...</td>\n",
              "      <td>115</td>\n",
              "      <td>Comedy</td>\n",
              "      <td>Universal Pictures|Media Rights Capital|Fuzzy ...</td>\n",
              "      <td>6/25/2015</td>\n",
              "      <td>1666</td>\n",
              "      <td>6.3</td>\n",
              "      <td>2015</td>\n",
              "      <td>62559972.47</td>\n",
              "      <td>1.985944e+08</td>\n",
              "    </tr>\n",
              "    <tr>\n",
              "      <th>32</th>\n",
              "      <td>254470</td>\n",
              "      <td>tt2848292</td>\n",
              "      <td>3.877764</td>\n",
              "      <td>29000000</td>\n",
              "      <td>287506194</td>\n",
              "      <td>Pitch Perfect 2</td>\n",
              "      <td>Anna Kendrick|Rebel Wilson|Hailee Steinfeld|Br...</td>\n",
              "      <td>NaN</td>\n",
              "      <td>Elizabeth Banks</td>\n",
              "      <td>We're back pitches</td>\n",
              "      <td>music|sequel|singer|male female relationship|a...</td>\n",
              "      <td>The Bellas are back, and they are better than ...</td>\n",
              "      <td>115</td>\n",
              "      <td>Comedy|Music</td>\n",
              "      <td>Universal Pictures|Gold Circle Films|Brownston...</td>\n",
              "      <td>5/7/2015</td>\n",
              "      <td>1264</td>\n",
              "      <td>6.8</td>\n",
              "      <td>2015</td>\n",
              "      <td>26679988.26</td>\n",
              "      <td>2.645056e+08</td>\n",
              "    </tr>\n",
              "    <tr>\n",
              "      <th>33</th>\n",
              "      <td>296098</td>\n",
              "      <td>tt3682448</td>\n",
              "      <td>3.648210</td>\n",
              "      <td>40000000</td>\n",
              "      <td>162610473</td>\n",
              "      <td>Bridge of Spies</td>\n",
              "      <td>Tom Hanks|Mark Rylance|Amy Ryan|Alan Alda|Seba...</td>\n",
              "      <td>NaN</td>\n",
              "      <td>Steven Spielberg</td>\n",
              "      <td>In the shadow of war, one man showed the world...</td>\n",
              "      <td>spy|cia|cold war|pilot|lawyer</td>\n",
              "      <td>During the Cold War, the Soviet Union captures...</td>\n",
              "      <td>141</td>\n",
              "      <td>Thriller|Drama</td>\n",
              "      <td>DreamWorks SKG|Amblin Entertainment|Studio Bab...</td>\n",
              "      <td>10/15/2015</td>\n",
              "      <td>1638</td>\n",
              "      <td>7.1</td>\n",
              "      <td>2015</td>\n",
              "      <td>36799983.81</td>\n",
              "      <td>1.496016e+08</td>\n",
              "    </tr>\n",
              "  </tbody>\n",
              "</table>\n",
              "</div>"
            ],
            "text/plain": [
              "        id    imdb_id  popularity  ...  release_year   budget_adj   revenue_adj\n",
              "18  150689  tt1661199    5.556818  ...          2015  87399961.54  4.989630e+08\n",
              "21  307081  tt1798684    5.337064  ...          2015  27599987.86  8.437300e+07\n",
              "26  214756  tt2637276    4.564549  ...          2015  62559972.47  1.985944e+08\n",
              "32  254470  tt2848292    3.877764  ...          2015  26679988.26  2.645056e+08\n",
              "33  296098  tt3682448    3.648210  ...          2015  36799983.81  1.496016e+08\n",
              "\n",
              "[5 rows x 21 columns]"
            ]
          },
          "metadata": {
            "tags": []
          },
          "execution_count": 13
        }
      ]
    },
    {
      "cell_type": "code",
      "metadata": {
        "colab": {
          "base_uri": "https://localhost:8080/"
        },
        "id": "Fyv1ev6fOIQF",
        "outputId": "89d994cc-be87-4218-8cab-0e0f273f15e1"
      },
      "source": [
        "df.nunique()"
      ],
      "execution_count": null,
      "outputs": [
        {
          "output_type": "execute_result",
          "data": {
            "text/plain": [
              "id                      10865\n",
              "imdb_id                 10855\n",
              "popularity              10814\n",
              "budget                    557\n",
              "revenue                  4702\n",
              "original_title          10571\n",
              "cast                    10719\n",
              "homepage                 2896\n",
              "director                 5067\n",
              "tagline                  7997\n",
              "keywords                 8804\n",
              "overview                10847\n",
              "runtime                   247\n",
              "genres                   2039\n",
              "production_companies     7445\n",
              "release_date             5909\n",
              "vote_count               1289\n",
              "vote_average               72\n",
              "release_year               56\n",
              "budget_adj               2614\n",
              "revenue_adj              4840\n",
              "dtype: int64"
            ]
          },
          "metadata": {
            "tags": []
          },
          "execution_count": 14
        }
      ]
    },
    {
      "cell_type": "code",
      "metadata": {
        "colab": {
          "base_uri": "https://localhost:8080/"
        },
        "id": "H2Enuv0mQ-JV",
        "outputId": "b9b3353e-5138-4f55-864d-83f2c35202b8"
      },
      "source": [
        "df.describe"
      ],
      "execution_count": null,
      "outputs": [
        {
          "output_type": "execute_result",
          "data": {
            "text/plain": [
              "<bound method NDFrame.describe of            id    imdb_id  popularity  ...  release_year    budget_adj   revenue_adj\n",
              "0      135397  tt0369610   32.985763  ...          2015  1.379999e+08  1.392446e+09\n",
              "1       76341  tt1392190   28.419936  ...          2015  1.379999e+08  3.481613e+08\n",
              "2      262500  tt2908446   13.112507  ...          2015  1.012000e+08  2.716190e+08\n",
              "3      140607  tt2488496   11.173104  ...          2015  1.839999e+08  1.902723e+09\n",
              "4      168259  tt2820852    9.335014  ...          2015  1.747999e+08  1.385749e+09\n",
              "...       ...        ...         ...  ...           ...           ...           ...\n",
              "10861      21  tt0060371    0.080598  ...          1966  0.000000e+00  0.000000e+00\n",
              "10862   20379  tt0060472    0.065543  ...          1966  0.000000e+00  0.000000e+00\n",
              "10863   39768  tt0060161    0.065141  ...          1966  0.000000e+00  0.000000e+00\n",
              "10864   21449  tt0061177    0.064317  ...          1966  0.000000e+00  0.000000e+00\n",
              "10865   22293  tt0060666    0.035919  ...          1966  1.276423e+05  0.000000e+00\n",
              "\n",
              "[10865 rows x 21 columns]>"
            ]
          },
          "metadata": {
            "tags": []
          },
          "execution_count": 15
        }
      ]
    },
    {
      "cell_type": "code",
      "metadata": {
        "colab": {
          "base_uri": "https://localhost:8080/"
        },
        "id": "xZBEOvRdO9ds",
        "outputId": "d493eb44-a5a9-4b18-b709-d5421680e415"
      },
      "source": [
        "# df dataset columns\n",
        "print(df.columns)"
      ],
      "execution_count": null,
      "outputs": [
        {
          "output_type": "stream",
          "text": [
            "Index(['id', 'imdb_id', 'popularity', 'budget', 'revenue', 'original_title',\n",
            "       'cast', 'homepage', 'director', 'tagline', 'keywords', 'overview',\n",
            "       'runtime', 'genres', 'production_companies', 'release_date',\n",
            "       'vote_count', 'vote_average', 'release_year', 'budget_adj',\n",
            "       'revenue_adj'],\n",
            "      dtype='object')\n"
          ],
          "name": "stdout"
        }
      ]
    },
    {
      "cell_type": "code",
      "metadata": {
        "id": "RanjykO1PBWf"
      },
      "source": [
        "# columns to drop from the movie dataset , these columns are irrelevant for our data analysis\n",
        "columns = ['homepage', 'tagline', 'overview', 'keywords']"
      ],
      "execution_count": null,
      "outputs": []
    },
    {
      "cell_type": "code",
      "metadata": {
        "id": "bdD2MRX9PvJ-"
      },
      "source": [
        "df.drop(labels=columns,axis=1, inplace=True)"
      ],
      "execution_count": null,
      "outputs": []
    },
    {
      "cell_type": "code",
      "metadata": {
        "colab": {
          "base_uri": "https://localhost:8080/"
        },
        "id": "x6-m6JyJP1PV",
        "outputId": "2cbd8807-d8d1-44bf-f951-fa87d73a731d"
      },
      "source": [
        "df.info()"
      ],
      "execution_count": null,
      "outputs": [
        {
          "output_type": "stream",
          "text": [
            "<class 'pandas.core.frame.DataFrame'>\n",
            "Int64Index: 10865 entries, 0 to 10865\n",
            "Data columns (total 17 columns):\n",
            " #   Column                Non-Null Count  Dtype  \n",
            "---  ------                --------------  -----  \n",
            " 0   id                    10865 non-null  int64  \n",
            " 1   imdb_id               10855 non-null  object \n",
            " 2   popularity            10865 non-null  float64\n",
            " 3   budget                10865 non-null  int64  \n",
            " 4   revenue               10865 non-null  int64  \n",
            " 5   original_title        10865 non-null  object \n",
            " 6   cast                  10789 non-null  object \n",
            " 7   director              10821 non-null  object \n",
            " 8   runtime               10865 non-null  int64  \n",
            " 9   genres                10842 non-null  object \n",
            " 10  production_companies  9835 non-null   object \n",
            " 11  release_date          10865 non-null  object \n",
            " 12  vote_count            10865 non-null  int64  \n",
            " 13  vote_average          10865 non-null  float64\n",
            " 14  release_year          10865 non-null  int64  \n",
            " 15  budget_adj            10865 non-null  float64\n",
            " 16  revenue_adj           10865 non-null  float64\n",
            "dtypes: float64(4), int64(6), object(7)\n",
            "memory usage: 1.5+ MB\n"
          ],
          "name": "stdout"
        }
      ]
    },
    {
      "cell_type": "code",
      "metadata": {
        "id": "Kn2zxBAxQEVF",
        "colab": {
          "base_uri": "https://localhost:8080/"
        },
        "outputId": "cd1cfc76-ed14-407f-ae83-20c6cc5e8091"
      },
      "source": [
        "# check the date format after cleaning\n",
        "df['release_date'].dtype"
      ],
      "execution_count": null,
      "outputs": [
        {
          "output_type": "execute_result",
          "data": {
            "text/plain": [
              "dtype('O')"
            ]
          },
          "metadata": {
            "tags": []
          },
          "execution_count": 20
        }
      ]
    },
    {
      "cell_type": "code",
      "metadata": {
        "colab": {
          "base_uri": "https://localhost:8080/",
          "height": 551
        },
        "id": "ImiHPwrOYK2J",
        "outputId": "84344c64-89eb-4c40-d0fc-f2e4a689b167"
      },
      "source": [
        "df= (df.drop('genres', axis=1)\n",
        "    .join(df['genres'].str.split('|', expand=True)\n",
        "    .stack().reset_index(level=1,drop=True)\n",
        "    .rename('genres'))\n",
        "    .loc[:, df.columns])\n",
        "df.head()"
      ],
      "execution_count": null,
      "outputs": [
        {
          "output_type": "execute_result",
          "data": {
            "text/html": [
              "<div>\n",
              "<style scoped>\n",
              "    .dataframe tbody tr th:only-of-type {\n",
              "        vertical-align: middle;\n",
              "    }\n",
              "\n",
              "    .dataframe tbody tr th {\n",
              "        vertical-align: top;\n",
              "    }\n",
              "\n",
              "    .dataframe thead th {\n",
              "        text-align: right;\n",
              "    }\n",
              "</style>\n",
              "<table border=\"1\" class=\"dataframe\">\n",
              "  <thead>\n",
              "    <tr style=\"text-align: right;\">\n",
              "      <th></th>\n",
              "      <th>id</th>\n",
              "      <th>imdb_id</th>\n",
              "      <th>popularity</th>\n",
              "      <th>budget</th>\n",
              "      <th>revenue</th>\n",
              "      <th>original_title</th>\n",
              "      <th>cast</th>\n",
              "      <th>director</th>\n",
              "      <th>runtime</th>\n",
              "      <th>genres</th>\n",
              "      <th>production_companies</th>\n",
              "      <th>release_date</th>\n",
              "      <th>vote_count</th>\n",
              "      <th>vote_average</th>\n",
              "      <th>release_year</th>\n",
              "      <th>budget_adj</th>\n",
              "      <th>revenue_adj</th>\n",
              "    </tr>\n",
              "  </thead>\n",
              "  <tbody>\n",
              "    <tr>\n",
              "      <th>0</th>\n",
              "      <td>135397</td>\n",
              "      <td>tt0369610</td>\n",
              "      <td>32.985763</td>\n",
              "      <td>150000000</td>\n",
              "      <td>1513528810</td>\n",
              "      <td>Jurassic World</td>\n",
              "      <td>Chris Pratt|Bryce Dallas Howard|Irrfan Khan|Vi...</td>\n",
              "      <td>Colin Trevorrow</td>\n",
              "      <td>124</td>\n",
              "      <td>Action</td>\n",
              "      <td>Universal Studios|Amblin Entertainment|Legenda...</td>\n",
              "      <td>6/9/2015</td>\n",
              "      <td>5562</td>\n",
              "      <td>6.5</td>\n",
              "      <td>2015</td>\n",
              "      <td>137999939.3</td>\n",
              "      <td>1.392446e+09</td>\n",
              "    </tr>\n",
              "    <tr>\n",
              "      <th>0</th>\n",
              "      <td>135397</td>\n",
              "      <td>tt0369610</td>\n",
              "      <td>32.985763</td>\n",
              "      <td>150000000</td>\n",
              "      <td>1513528810</td>\n",
              "      <td>Jurassic World</td>\n",
              "      <td>Chris Pratt|Bryce Dallas Howard|Irrfan Khan|Vi...</td>\n",
              "      <td>Colin Trevorrow</td>\n",
              "      <td>124</td>\n",
              "      <td>Adventure</td>\n",
              "      <td>Universal Studios|Amblin Entertainment|Legenda...</td>\n",
              "      <td>6/9/2015</td>\n",
              "      <td>5562</td>\n",
              "      <td>6.5</td>\n",
              "      <td>2015</td>\n",
              "      <td>137999939.3</td>\n",
              "      <td>1.392446e+09</td>\n",
              "    </tr>\n",
              "    <tr>\n",
              "      <th>0</th>\n",
              "      <td>135397</td>\n",
              "      <td>tt0369610</td>\n",
              "      <td>32.985763</td>\n",
              "      <td>150000000</td>\n",
              "      <td>1513528810</td>\n",
              "      <td>Jurassic World</td>\n",
              "      <td>Chris Pratt|Bryce Dallas Howard|Irrfan Khan|Vi...</td>\n",
              "      <td>Colin Trevorrow</td>\n",
              "      <td>124</td>\n",
              "      <td>Science Fiction</td>\n",
              "      <td>Universal Studios|Amblin Entertainment|Legenda...</td>\n",
              "      <td>6/9/2015</td>\n",
              "      <td>5562</td>\n",
              "      <td>6.5</td>\n",
              "      <td>2015</td>\n",
              "      <td>137999939.3</td>\n",
              "      <td>1.392446e+09</td>\n",
              "    </tr>\n",
              "    <tr>\n",
              "      <th>0</th>\n",
              "      <td>135397</td>\n",
              "      <td>tt0369610</td>\n",
              "      <td>32.985763</td>\n",
              "      <td>150000000</td>\n",
              "      <td>1513528810</td>\n",
              "      <td>Jurassic World</td>\n",
              "      <td>Chris Pratt|Bryce Dallas Howard|Irrfan Khan|Vi...</td>\n",
              "      <td>Colin Trevorrow</td>\n",
              "      <td>124</td>\n",
              "      <td>Thriller</td>\n",
              "      <td>Universal Studios|Amblin Entertainment|Legenda...</td>\n",
              "      <td>6/9/2015</td>\n",
              "      <td>5562</td>\n",
              "      <td>6.5</td>\n",
              "      <td>2015</td>\n",
              "      <td>137999939.3</td>\n",
              "      <td>1.392446e+09</td>\n",
              "    </tr>\n",
              "    <tr>\n",
              "      <th>1</th>\n",
              "      <td>76341</td>\n",
              "      <td>tt1392190</td>\n",
              "      <td>28.419936</td>\n",
              "      <td>150000000</td>\n",
              "      <td>378436354</td>\n",
              "      <td>Mad Max: Fury Road</td>\n",
              "      <td>Tom Hardy|Charlize Theron|Hugh Keays-Byrne|Nic...</td>\n",
              "      <td>George Miller</td>\n",
              "      <td>120</td>\n",
              "      <td>Action</td>\n",
              "      <td>Village Roadshow Pictures|Kennedy Miller Produ...</td>\n",
              "      <td>5/13/2015</td>\n",
              "      <td>6185</td>\n",
              "      <td>7.1</td>\n",
              "      <td>2015</td>\n",
              "      <td>137999939.3</td>\n",
              "      <td>3.481613e+08</td>\n",
              "    </tr>\n",
              "  </tbody>\n",
              "</table>\n",
              "</div>"
            ],
            "text/plain": [
              "       id    imdb_id  popularity  ...  release_year   budget_adj   revenue_adj\n",
              "0  135397  tt0369610   32.985763  ...          2015  137999939.3  1.392446e+09\n",
              "0  135397  tt0369610   32.985763  ...          2015  137999939.3  1.392446e+09\n",
              "0  135397  tt0369610   32.985763  ...          2015  137999939.3  1.392446e+09\n",
              "0  135397  tt0369610   32.985763  ...          2015  137999939.3  1.392446e+09\n",
              "1   76341  tt1392190   28.419936  ...          2015  137999939.3  3.481613e+08\n",
              "\n",
              "[5 rows x 17 columns]"
            ]
          },
          "metadata": {
            "tags": []
          },
          "execution_count": 21
        }
      ]
    },
    {
      "cell_type": "code",
      "metadata": {
        "colab": {
          "base_uri": "https://localhost:8080/",
          "height": 551
        },
        "id": "uYllgke9YSnb",
        "outputId": "2a013777-6c93-4dc3-cbcf-87f82e48638d"
      },
      "source": [
        "# splitting into rows the production_companie columns\n",
        "df= (df.drop('production_companies', axis=1)\n",
        "    .join(df['production_companies'].str.split('|', expand=True)\n",
        "    .stack().reset_index(level=1,drop=True)\n",
        "    .rename('production_companies'))\n",
        "    .loc[:, df.columns])\n",
        "df.head()\n"
      ],
      "execution_count": null,
      "outputs": [
        {
          "output_type": "execute_result",
          "data": {
            "text/html": [
              "<div>\n",
              "<style scoped>\n",
              "    .dataframe tbody tr th:only-of-type {\n",
              "        vertical-align: middle;\n",
              "    }\n",
              "\n",
              "    .dataframe tbody tr th {\n",
              "        vertical-align: top;\n",
              "    }\n",
              "\n",
              "    .dataframe thead th {\n",
              "        text-align: right;\n",
              "    }\n",
              "</style>\n",
              "<table border=\"1\" class=\"dataframe\">\n",
              "  <thead>\n",
              "    <tr style=\"text-align: right;\">\n",
              "      <th></th>\n",
              "      <th>id</th>\n",
              "      <th>imdb_id</th>\n",
              "      <th>popularity</th>\n",
              "      <th>budget</th>\n",
              "      <th>revenue</th>\n",
              "      <th>original_title</th>\n",
              "      <th>cast</th>\n",
              "      <th>director</th>\n",
              "      <th>runtime</th>\n",
              "      <th>genres</th>\n",
              "      <th>production_companies</th>\n",
              "      <th>release_date</th>\n",
              "      <th>vote_count</th>\n",
              "      <th>vote_average</th>\n",
              "      <th>release_year</th>\n",
              "      <th>budget_adj</th>\n",
              "      <th>revenue_adj</th>\n",
              "    </tr>\n",
              "  </thead>\n",
              "  <tbody>\n",
              "    <tr>\n",
              "      <th>0</th>\n",
              "      <td>135397</td>\n",
              "      <td>tt0369610</td>\n",
              "      <td>32.985763</td>\n",
              "      <td>150000000</td>\n",
              "      <td>1513528810</td>\n",
              "      <td>Jurassic World</td>\n",
              "      <td>Chris Pratt|Bryce Dallas Howard|Irrfan Khan|Vi...</td>\n",
              "      <td>Colin Trevorrow</td>\n",
              "      <td>124</td>\n",
              "      <td>Action</td>\n",
              "      <td>Universal Studios</td>\n",
              "      <td>6/9/2015</td>\n",
              "      <td>5562</td>\n",
              "      <td>6.5</td>\n",
              "      <td>2015</td>\n",
              "      <td>137999939.3</td>\n",
              "      <td>1.392446e+09</td>\n",
              "    </tr>\n",
              "    <tr>\n",
              "      <th>0</th>\n",
              "      <td>135397</td>\n",
              "      <td>tt0369610</td>\n",
              "      <td>32.985763</td>\n",
              "      <td>150000000</td>\n",
              "      <td>1513528810</td>\n",
              "      <td>Jurassic World</td>\n",
              "      <td>Chris Pratt|Bryce Dallas Howard|Irrfan Khan|Vi...</td>\n",
              "      <td>Colin Trevorrow</td>\n",
              "      <td>124</td>\n",
              "      <td>Action</td>\n",
              "      <td>Amblin Entertainment</td>\n",
              "      <td>6/9/2015</td>\n",
              "      <td>5562</td>\n",
              "      <td>6.5</td>\n",
              "      <td>2015</td>\n",
              "      <td>137999939.3</td>\n",
              "      <td>1.392446e+09</td>\n",
              "    </tr>\n",
              "    <tr>\n",
              "      <th>0</th>\n",
              "      <td>135397</td>\n",
              "      <td>tt0369610</td>\n",
              "      <td>32.985763</td>\n",
              "      <td>150000000</td>\n",
              "      <td>1513528810</td>\n",
              "      <td>Jurassic World</td>\n",
              "      <td>Chris Pratt|Bryce Dallas Howard|Irrfan Khan|Vi...</td>\n",
              "      <td>Colin Trevorrow</td>\n",
              "      <td>124</td>\n",
              "      <td>Action</td>\n",
              "      <td>Legendary Pictures</td>\n",
              "      <td>6/9/2015</td>\n",
              "      <td>5562</td>\n",
              "      <td>6.5</td>\n",
              "      <td>2015</td>\n",
              "      <td>137999939.3</td>\n",
              "      <td>1.392446e+09</td>\n",
              "    </tr>\n",
              "    <tr>\n",
              "      <th>0</th>\n",
              "      <td>135397</td>\n",
              "      <td>tt0369610</td>\n",
              "      <td>32.985763</td>\n",
              "      <td>150000000</td>\n",
              "      <td>1513528810</td>\n",
              "      <td>Jurassic World</td>\n",
              "      <td>Chris Pratt|Bryce Dallas Howard|Irrfan Khan|Vi...</td>\n",
              "      <td>Colin Trevorrow</td>\n",
              "      <td>124</td>\n",
              "      <td>Action</td>\n",
              "      <td>Fuji Television Network</td>\n",
              "      <td>6/9/2015</td>\n",
              "      <td>5562</td>\n",
              "      <td>6.5</td>\n",
              "      <td>2015</td>\n",
              "      <td>137999939.3</td>\n",
              "      <td>1.392446e+09</td>\n",
              "    </tr>\n",
              "    <tr>\n",
              "      <th>0</th>\n",
              "      <td>135397</td>\n",
              "      <td>tt0369610</td>\n",
              "      <td>32.985763</td>\n",
              "      <td>150000000</td>\n",
              "      <td>1513528810</td>\n",
              "      <td>Jurassic World</td>\n",
              "      <td>Chris Pratt|Bryce Dallas Howard|Irrfan Khan|Vi...</td>\n",
              "      <td>Colin Trevorrow</td>\n",
              "      <td>124</td>\n",
              "      <td>Action</td>\n",
              "      <td>Dentsu</td>\n",
              "      <td>6/9/2015</td>\n",
              "      <td>5562</td>\n",
              "      <td>6.5</td>\n",
              "      <td>2015</td>\n",
              "      <td>137999939.3</td>\n",
              "      <td>1.392446e+09</td>\n",
              "    </tr>\n",
              "  </tbody>\n",
              "</table>\n",
              "</div>"
            ],
            "text/plain": [
              "       id    imdb_id  popularity  ...  release_year   budget_adj   revenue_adj\n",
              "0  135397  tt0369610   32.985763  ...          2015  137999939.3  1.392446e+09\n",
              "0  135397  tt0369610   32.985763  ...          2015  137999939.3  1.392446e+09\n",
              "0  135397  tt0369610   32.985763  ...          2015  137999939.3  1.392446e+09\n",
              "0  135397  tt0369610   32.985763  ...          2015  137999939.3  1.392446e+09\n",
              "0  135397  tt0369610   32.985763  ...          2015  137999939.3  1.392446e+09\n",
              "\n",
              "[5 rows x 17 columns]"
            ]
          },
          "metadata": {
            "tags": []
          },
          "execution_count": 22
        }
      ]
    },
    {
      "cell_type": "code",
      "metadata": {
        "colab": {
          "base_uri": "https://localhost:8080/"
        },
        "id": "-XMFZHMfYV5G",
        "outputId": "01be0ead-f0e1-4a79-fc4f-a55a6c33b090"
      },
      "source": [
        "# inspecting the movies and budget columns\n",
        "df[df['revenue'] == 0].count()['revenue']"
      ],
      "execution_count": null,
      "outputs": [
        {
          "output_type": "execute_result",
          "data": {
            "text/plain": [
              "76851"
            ]
          },
          "metadata": {
            "tags": []
          },
          "execution_count": 23
        }
      ]
    },
    {
      "cell_type": "code",
      "metadata": {
        "colab": {
          "base_uri": "https://localhost:8080/"
        },
        "id": "9AfR-01FYg0P",
        "outputId": "2ce44a06-d23c-40ab-a729-6c909ba9f6c2"
      },
      "source": [
        "# inspecting the movies and budget columns\n",
        "df[df['revenue_adj'] == 0].count()['revenue_adj']"
      ],
      "execution_count": null,
      "outputs": [
        {
          "output_type": "execute_result",
          "data": {
            "text/plain": [
              "76851"
            ]
          },
          "metadata": {
            "tags": []
          },
          "execution_count": 24
        }
      ]
    },
    {
      "cell_type": "code",
      "metadata": {
        "colab": {
          "base_uri": "https://localhost:8080/"
        },
        "id": "xhoTNRyyYkHX",
        "outputId": "a1f163bc-5e8b-4f93-a203-ae35b34fda7c"
      },
      "source": [
        "# inspecting the movies and budget columns\n",
        "df[df['budget'] == 0].count()['budget']"
      ],
      "execution_count": null,
      "outputs": [
        {
          "output_type": "execute_result",
          "data": {
            "text/plain": [
              "69433"
            ]
          },
          "metadata": {
            "tags": []
          },
          "execution_count": 25
        }
      ]
    },
    {
      "cell_type": "code",
      "metadata": {
        "colab": {
          "base_uri": "https://localhost:8080/"
        },
        "id": "_9Wg5RdtYo2R",
        "outputId": "3fc4c5de-cf11-4bde-dfa0-8d8f96b9340f"
      },
      "source": [
        "# inspecting the movies and budget columns\n",
        "df[df['budget_adj'] == 0].count()['budget_adj']"
      ],
      "execution_count": null,
      "outputs": [
        {
          "output_type": "execute_result",
          "data": {
            "text/plain": [
              "69433"
            ]
          },
          "metadata": {
            "tags": []
          },
          "execution_count": 26
        }
      ]
    },
    {
      "cell_type": "code",
      "metadata": {
        "colab": {
          "base_uri": "https://localhost:8080/"
        },
        "id": "1Rm16Xd6YtVI",
        "outputId": "0527536a-d311-471c-cea9-7d1031edc283"
      },
      "source": [
        "# fill the columns revenue & budget with their mean value\n",
        "cols = ['budget', 'budget_adj', 'revenue', 'revenue_adj']\n",
        "for item in cols:\n",
        "        print(item, df[item].mean())\n",
        "        df[item] = df[item].replace({0:df[item].mean()})"
      ],
      "execution_count": null,
      "outputs": [
        {
          "output_type": "stream",
          "text": [
            "budget 26775356.47371121\n",
            "budget_adj 30889712.598593716\n",
            "revenue 70334023.35863845\n",
            "revenue_adj 84260108.11781298\n"
          ],
          "name": "stdout"
        }
      ]
    },
    {
      "cell_type": "code",
      "metadata": {
        "colab": {
          "base_uri": "https://localhost:8080/"
        },
        "id": "E_YlL_BfY2eW",
        "outputId": "8acd8629-e09a-4288-b2ee-16c7d210f540"
      },
      "source": [
        "# check wheather the columns have been successfully filled\n",
        "df[df['revenue'].notnull()].count()"
      ],
      "execution_count": null,
      "outputs": [
        {
          "output_type": "execute_result",
          "data": {
            "text/plain": [
              "id                      181294\n",
              "imdb_id                 181249\n",
              "popularity              181294\n",
              "budget                  181294\n",
              "revenue                 181294\n",
              "original_title          181294\n",
              "cast                    181023\n",
              "director                181104\n",
              "runtime                 181294\n",
              "genres                  181270\n",
              "production_companies    179082\n",
              "release_date            181294\n",
              "vote_count              181294\n",
              "vote_average            181294\n",
              "release_year            181294\n",
              "budget_adj              181294\n",
              "revenue_adj             181294\n",
              "dtype: int64"
            ]
          },
          "metadata": {
            "tags": []
          },
          "execution_count": 28
        }
      ]
    },
    {
      "cell_type": "code",
      "metadata": {
        "colab": {
          "base_uri": "https://localhost:8080/"
        },
        "id": "fQFBaKcYY7bY",
        "outputId": "e432d35c-e25b-4bf6-d601-0bbebaa66a6a"
      },
      "source": [
        "# should return false\n",
        "(df['revenue'] == 0).all()"
      ],
      "execution_count": null,
      "outputs": [
        {
          "output_type": "execute_result",
          "data": {
            "text/plain": [
              "False"
            ]
          },
          "metadata": {
            "tags": []
          },
          "execution_count": 29
        }
      ]
    },
    {
      "cell_type": "code",
      "metadata": {
        "colab": {
          "base_uri": "https://localhost:8080/"
        },
        "id": "nSKq0_JBZAXu",
        "outputId": "eae4aba4-b734-4f67-800c-2d49a6c33672"
      },
      "source": [
        "# should return false\n",
        "(df['revenue_adj'] == 0).all()"
      ],
      "execution_count": null,
      "outputs": [
        {
          "output_type": "execute_result",
          "data": {
            "text/plain": [
              "False"
            ]
          },
          "metadata": {
            "tags": []
          },
          "execution_count": 30
        }
      ]
    },
    {
      "cell_type": "code",
      "metadata": {
        "colab": {
          "base_uri": "https://localhost:8080/"
        },
        "id": "2JSKOmTHZKlF",
        "outputId": "dede4ced-19e0-4f2f-8e33-60df0ac29a52"
      },
      "source": [
        "# should return false\n",
        "(df['budget'] ==0).all()"
      ],
      "execution_count": null,
      "outputs": [
        {
          "output_type": "execute_result",
          "data": {
            "text/plain": [
              "False"
            ]
          },
          "metadata": {
            "tags": []
          },
          "execution_count": 31
        }
      ]
    },
    {
      "cell_type": "code",
      "metadata": {
        "colab": {
          "base_uri": "https://localhost:8080/"
        },
        "id": "9pXbkR6aZXml",
        "outputId": "265e5597-8399-421a-b3bb-0baaae64f872"
      },
      "source": [
        "# should return false\n",
        "(df['budget_adj'] ==0).all()"
      ],
      "execution_count": null,
      "outputs": [
        {
          "output_type": "execute_result",
          "data": {
            "text/plain": [
              "False"
            ]
          },
          "metadata": {
            "tags": []
          },
          "execution_count": 32
        }
      ]
    },
    {
      "cell_type": "code",
      "metadata": {
        "colab": {
          "base_uri": "https://localhost:8080/"
        },
        "id": "7kyB6Zw2Zr4h",
        "outputId": "bfb7b664-e373-4134-beaf-8ce93137165e"
      },
      "source": [
        "df.shape"
      ],
      "execution_count": null,
      "outputs": [
        {
          "output_type": "execute_result",
          "data": {
            "text/plain": [
              "(181294, 17)"
            ]
          },
          "metadata": {
            "tags": []
          },
          "execution_count": 33
        }
      ]
    },
    {
      "cell_type": "code",
      "metadata": {
        "id": "AMVkEBgead2A"
      },
      "source": [
        ""
      ],
      "execution_count": null,
      "outputs": []
    }
  ]
}